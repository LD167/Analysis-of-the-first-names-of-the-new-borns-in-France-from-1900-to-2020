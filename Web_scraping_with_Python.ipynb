# IMPORT LIBRARIES

import requests
from bs4 import BeautifulSoup
import math

# SCRAP THE WEB SITE "EMMA.CA"

# Retrieve the list of the ethnic origins

url = 'https://emma.ca/prenom'
code_source = BeautifulSoup(requests.get(url).content, 'html.parser')
liste_des_origines = [str.upper(i.text) for i in code_source.find('div', {'class','origin-by-girl'}).find_all('a')]
print('Liste des origines ethniques')
print('')
print(*liste_des_origines)

# Set a "while loop" to go through all the ethnic origins labels

nombre_origines = len(liste_des_origines)
origine_index = -1
while origine_index < nombre_origines:

# Set the current ethnic origin label

	origine_index = origine_index + 1
	origine_libellé = str.lower(liste_des_origines[origine_index])
	origine_libellé_corrigé = str.lower(liste_des_origines[origine_index].replace('è','e').replace('è','e'))

# Set the title of the list for the current ethnic label

	title = 'Prénoms '+str(origine_libellé)
	print('')
	print(title)
	print('')

# Retrieve the list of the girls first names for the current ethnic origin label

	url_generic = 'https://emma.ca/prenom-fille/'+str(origine_libellé_corrigé)+'?e9c247c9_page='
	if requests.get(url_generic+str(1)).status_code != 200: print('erreur')
	if requests.get(url_generic+str(1)).status_code != 200: continue
	if requests.get(url_generic+str(1)).status_code == 200: print('Filles')
	for web_page in list(range(1,10)): 
		code_source = BeautifulSoup(requests.get(url_generic+str(web_page)).content, 'html.parser')
		liste_des_prénoms_de_filles = [str.upper(i.text) for i in code_source.find('div', {'class','sort-by-baby-names a-to-z w-dyn-list'}).find_all('a') if i.text != 'Précédent' and i.text != 'Suivant' and i.text != 'Ajouter un Prénom']
		print(*liste_des_prénoms_de_filles)
		if [i.text for i in code_source.find('div', {'class','sort-by-baby-names a-to-z w-dyn-list'}).find_all('a') if i.text != 'Précédent' and i.text != 'Suivant'] == ['Ajouter un Prénom']: break 

# Retrieve the list of the boys first names for the current ethnic origin label
	
	url_generic = 'https://emma.ca/prenom-garcon/'+str(origine_libellé_corrigé)+'?e595c9a7_page='
	if requests.get(url_generic+str(1)).status_code != 200: print('erreur')
	if requests.get(url_generic+str(1)).status_code != 200: continue
	if requests.get(url_generic+str(1)).status_code == 200: print('Garçons')
	for web_page in list(range(1,10)): 
		code_source = BeautifulSoup(requests.get(url_generic+str(web_page)).content, 'html.parser')
		liste_des_prénoms_de_garçons = [str.upper(i.text.replace('Ajouter un Prénom', '')) for i in code_source.find('div', {'class','sort-by-baby-names a-to-z w-dyn-list'}).find_all('a') if i.text != 'Précédent' and i.text != 'Suivant']
		print(*liste_des_prénoms_de_garçons)
		if [i.text for i in code_source.find('div', {'class','sort-by-baby-names a-to-z w-dyn-list'}).find_all('a') if i.text != 'Précédent' and i.text != 'Suivant'] == ['Ajouter un Prénom']: break

# Retrieve the list of the ethnic origins labels for which the "while loop" has returned an "error" message (no connection to the url)

url = 'https://emma.ca/prenom'
code_source = BeautifulSoup(requests.get(url).content, 'html.parser')
liste_des_origines_erreur = [str.upper(i.text) for i in code_source.find('div', {'class','origin-by-girl'}).find_all('a') if requests.get('https://emma.ca/prenom-fille/'+str.lower(i.text.replace('è','e').replace('è','e'))+'?e9c247c9_page='+str(1)).status_code != 200]
print(liste_des_origines_erreur)

