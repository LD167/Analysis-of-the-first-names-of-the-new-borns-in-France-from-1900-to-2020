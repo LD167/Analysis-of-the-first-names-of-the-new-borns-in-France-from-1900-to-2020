# IMPORT LIBRARIES

import requests
from bs4 import BeautifulSoup
import math

# SCRAP THE LIST OF THE FIRST NAMES PER ETHNIC ORIGINS FROM THE WEB SITE "EMMA.CA"

# 1) Scrap the list of the ethnic origins labels

### Set the web page to scrap
url = 'https://emma.ca/prenom'

### Check the connection to the web page
print(requests.get(url))

### Retrieve the source code of the web page
code_source = BeautifulSoup(requests.get(url).content, 'html.parser')

### Retrieve the list of the ethnic origins labels
liste_des_origines = [i.text for i in code_source.find('div', {'class','origin-by-girl'}).find_all('a')]

### Display the list of the ethnic origins labels
print(liste_des_origines)

# 2) Initiate a "while loop" to go through all the ethnic origins labels one after the other

### Calculate the number of ethnic origins labels
nombre_d_origines = len(liste_des_origines)

### Set the index of the first ethnic origin label to go through
origine_index = 0

### Set the "while loop" condition in order to go through all the indexes
while origine_index < nombre_d_origines:

# 3) Scrap the list of the girls first names for the ethnic origin label the "while loop" is currently going through

### Correct the wording of the ethnic origin label by lowercasing it and by replacing the strings "é" and "è" by the string "e"
    origine_libellé = str.lower(liste_des_origines[origine_index]).replace('é','e').replace('è','e')

### Set the web page 1 to scrap
    url_generic = 'https://emma.ca/prenom-fille/'+str(origine_libellé)+'?e9c247c9_page='
    url = url_generic+str(1)

### Check the connection to the web page 1
    print(requests.get(url))

### Retrieve the source code of the web page 1
    code_source = BeautifulSoup(requests.get(url).content, 'html.parser')

### Retrieve the title of the web page 1 and correct it by replacing the string " | Emma" by ""
    title = code_source.title.text.replace(' | Emma','')

### Display the corrected title of the web page 1
    print(title)

### Set a "for loop" to go through web page 1 till web page 10 (assuming that any ethnic origin has less than 10 web pages)
    for web_page in list(range(1,10)): 

### Retrieve the source code of each web page one after the other
        code_source = BeautifulSoup(requests.get(url_generic+str(web_page)).content, 'html.parser')

### Retrieve the list of the girls first names from the web page the "for loop" is currently going through
        liste_des_prénoms_de_filles_web_page = [i.text.replace('Ajouter un Prénom', 'Fin') for i in code_source.find('div', {'class','sort-by-baby-names a-to-z w-dyn-list'}).find_all('a') if i.text != 'Précédent' and i.text != 'Suivant']  

### Display all the lists of the girls first names from all the web pages (from web page 1 till web page 10)
        print(*liste_des_prénoms_de_filles_web_page)

### Set the "for loop" condition in order to stop the loop as soon as the loop reaches the last web page
        if [i.text for i in code_source.find('div', {'class','sort-by-baby-names a-to-z w-dyn-list'}).find_all('a') if i.text != 'Précédent' and i.text != 'Suivant'] == ['Ajouter un Prénom']: break                    



