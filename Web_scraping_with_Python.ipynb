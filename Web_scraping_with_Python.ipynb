# IMPORT LIBRARIES

import requests
from bs4 import BeautifulSoup
import math

# SCRAP THE LIST OF THE FIRST NAMES PER ETHNIC ORIGINS FROM THE WEB SITE "EMMA.CA"

# 1) Scrap the list of the ethnic origins

### Set the web page to scrap
url = 'https://emma.ca/prenom'

### Check the connection to the web page
print(requests.get(url))

### Retrieve the source code of the web page
code_source = BeautifulSoup(requests.get(url).content, 'html.parser')

### Retrieve the list of the ethnic origins
liste_des_origines = [i.text for i in code_source.find('div', {'class','origin-by-girl'}).find_all('a')]

### Display the list of the ethnic origins
print(liste_des_origines)

# 2) Set the current ethnic origin to go through in the list of the ethnic origins

### Calculate the number of ethnic origins labels in the list of the ethnic origins
nombre_d_origines = len(liste_des_origines)

### Use a while loop to go through each ethnic origin label one after the other
n = 0
while n < nombre_d_origines:

### Set the current corrected ethnic origin label by replacing the strings "é" and "è" by the string "e"
    origine = str.lower(liste_des_origines[n]).replace('é','e').replace('è','e')

# 3) Scrap the list of the girls first names for the current corrected ethnic origin label

### Set the web page to scrap
    url = 'https://emma.ca/prenom-fille/'+str(origine)+'?e9c247c9_page='

### Check the connection to the web page
    print(requests.get(url))

### Retrieve the source code of the web page
    code_source = BeautifulSoup(requests.get(url).content, 'html.parser')

### Retrieve the title of the web page and correct it by replacing the string " | Emma" by ""
    title = code_source.title.text.replace(' | Emma','')

### Display the corrected title of the web page
    print(title)


