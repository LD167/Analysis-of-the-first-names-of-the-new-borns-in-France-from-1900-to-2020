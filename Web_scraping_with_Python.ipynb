# Import libraries
import requests
from bs4 import BeautifulSoup


# URL page to scrap
url_prenoms_origine_africaine = 'http://tonprenom.com/origine/africaine'

# requête de connexion à l'URL
page = requests.get(url_prenoms_origine_africaine)
print(page)

# Objet "soup" qui va contenir l'ensemble du code source de la page web
soup = BeautifulSoup(page.content, 'html.parser')

# Accéder au titre de la page web (= le texte compris entre 2 balises "title")
print(soup.title.text)

# Récupération de tous les éléments qui se trouvent entre les balises "div" (notamment les prénoms)
soup.find_all('a')

# Boucle pour récupérer sous forme de liste uniquement les éléments textuels 
data = []
for i in soup.find_all('a'):
    data.append(i.text)
data

# Filtre sur les seuls éléments textuels qui nous intéressent (c'est-à-dire les prénoms)
data = data[17:-6]
data
